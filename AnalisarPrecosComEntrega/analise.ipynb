{
 "cells": [
  {
   "cell_type": "markdown",
   "metadata": {},
   "source": [
    "# Setup logging"
   ]
  },
  {
   "cell_type": "code",
   "execution_count": null,
   "metadata": {},
   "outputs": [],
   "source": [
    "import logging_setup as logsetup\n",
    "\n",
    "logger = logsetup.setup_logger()"
   ]
  },
  {
   "cell_type": "markdown",
   "metadata": {},
   "source": [
    "# Setup open and close functions"
   ]
  },
  {
   "cell_type": "code",
   "execution_count": null,
   "metadata": {},
   "outputs": [],
   "source": [
    "import webdriver_setup as websetup\n",
    "\n",
    "websetup.logger = logger\n",
    "driver: websetup.ChromeDriver | None\n",
    "\n",
    "\n",
    "def setup_driver(headless: bool) -> None:\n",
    "    global driver\n",
    "    if \"driver\" not in globals():\n",
    "        driver = None\n",
    "\n",
    "    if not isinstance(driver, websetup.ChromeDriver):\n",
    "        driver = websetup.setup_driver(headless)\n",
    "\n",
    "\n",
    "setup_driver(headless=False)"
   ]
  },
  {
   "cell_type": "markdown",
   "metadata": {},
   "source": [
    "# Excute my code"
   ]
  },
  {
   "cell_type": "code",
   "execution_count": null,
   "metadata": {},
   "outputs": [],
   "source": [
    "import importlib as importer\n",
    "import site1\n",
    "\n",
    "importer.reload(site1)\n",
    "\n",
    "data_processer = site1.Site1(driver, logger)\n",
    "data = data_processer.process()\n",
    "print(data)"
   ]
  },
  {
   "cell_type": "markdown",
   "metadata": {},
   "source": [
    "# Cleanup"
   ]
  },
  {
   "cell_type": "code",
   "execution_count": null,
   "metadata": {},
   "outputs": [],
   "source": [
    "websetup.close_driver(driver)\n",
    "driver = None"
   ]
  }
 ],
 "metadata": {
  "kernelspec": {
   "display_name": ".venv",
   "language": "python",
   "name": "python3"
  },
  "language_info": {
   "codemirror_mode": {
    "name": "ipython",
    "version": 3
   },
   "file_extension": ".py",
   "mimetype": "text/x-python",
   "name": "python",
   "nbconvert_exporter": "python",
   "pygments_lexer": "ipython3",
   "version": "3.12.3"
  }
 },
 "nbformat": 4,
 "nbformat_minor": 2
}
