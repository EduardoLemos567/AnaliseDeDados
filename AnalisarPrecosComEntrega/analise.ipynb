{
 "cells": [
  {
   "cell_type": "markdown",
   "metadata": {},
   "source": [
    "# Imports"
   ]
  },
  {
   "cell_type": "code",
   "execution_count": null,
   "metadata": {},
   "outputs": [],
   "source": [
    "import logging_setup as logsetup\n",
    "import webdriver_setup as websetup\n",
    "import site1"
   ]
  },
  {
   "cell_type": "markdown",
   "metadata": {},
   "source": [
    "# Setup logging"
   ]
  },
  {
   "cell_type": "code",
   "execution_count": null,
   "metadata": {},
   "outputs": [],
   "source": [
    "logger = logsetup.setup_logger()\n",
    "\n",
    "websetup.logger = logger\n",
    "site1.logger = logger"
   ]
  },
  {
   "cell_type": "markdown",
   "metadata": {},
   "source": [
    "# Setup open and close functions"
   ]
  },
  {
   "cell_type": "code",
   "execution_count": null,
   "metadata": {},
   "outputs": [],
   "source": [
    "driver: websetup.ChromeDriver | None\n",
    "\n",
    "\n",
    "def setup_driver():\n",
    "    global driver\n",
    "    if \"driver\" not in globals():\n",
    "        driver = None\n",
    "    if not isinstance(driver, websetup.ChromeDriver):\n",
    "        driver = websetup.setup_driver()"
   ]
  },
  {
   "cell_type": "markdown",
   "metadata": {},
   "source": [
    "# Excute my code"
   ]
  },
  {
   "cell_type": "code",
   "execution_count": null,
   "metadata": {},
   "outputs": [],
   "source": [
    "setup_driver()\n",
    "try:\n",
    "    data_processer = site1.Site1(driver)  # type: ignore\n",
    "\n",
    "    data = data_processer.process()\n",
    "    print(data)\n",
    "except Exception as e:\n",
    "    websetup.close_driver(driver)\n",
    "    driver = None\n",
    "    raise e"
   ]
  },
  {
   "cell_type": "markdown",
   "metadata": {},
   "source": [
    "# Cleanup"
   ]
  },
  {
   "cell_type": "code",
   "execution_count": null,
   "metadata": {},
   "outputs": [],
   "source": [
    "websetup.close_driver(driver)\n",
    "driver = None"
   ]
  }
 ],
 "metadata": {
  "kernelspec": {
   "display_name": ".venv",
   "language": "python",
   "name": "python3"
  },
  "language_info": {
   "codemirror_mode": {
    "name": "ipython",
    "version": 3
   },
   "file_extension": ".py",
   "mimetype": "text/x-python",
   "name": "python",
   "nbconvert_exporter": "python",
   "pygments_lexer": "ipython3",
   "version": "3.12.3"
  }
 },
 "nbformat": 4,
 "nbformat_minor": 2
}
